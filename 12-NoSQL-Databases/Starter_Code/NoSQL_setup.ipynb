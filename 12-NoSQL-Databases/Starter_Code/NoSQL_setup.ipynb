{
 "cells": [
  {
   "cell_type": "markdown",
   "id": "9a57c4c6",
   "metadata": {},
   "source": [
    "# Eat Safe, Love"
   ]
  },
  {
   "cell_type": "markdown",
   "id": "064ef857",
   "metadata": {},
   "source": [
    "## Part 1: Database and Jupyter Notebook Set Up"
   ]
  },
  {
   "cell_type": "markdown",
   "id": "664e3c1f",
   "metadata": {},
   "source": [
    "Import the data provided in the `establishments.json` file from your Terminal. Name the database `uk_food` and the collection `establishments`.\n",
    "\n",
    "Within this markdown cell, copy the line of text you used to import the data from your Terminal. This way, future analysts will be able to repeat your process.\n",
    "\n",
    "e.g.: Import the dataset with `YOUR IMPORT TEXT HERE`"
   ]
  },
  {
   "cell_type": "code",
   "execution_count": 1,
   "id": "3ecdd008",
   "metadata": {},
   "outputs": [],
   "source": [
    "# Import dependencies\n",
    "import json\n",
    "from pymongo import MongoClient"
   ]
  },
  {
   "cell_type": "code",
   "execution_count": 2,
   "id": "59390c4a",
   "metadata": {},
   "outputs": [],
   "source": [
    "# Create an instance of MongoClient\n",
    "# MongoDB connection URI\n",
    "mongo_uri = \"mongodb://localhost:27017/\"\n",
    "\n",
    "# Create an instance of MongoClient\n",
    "client = MongoClient(mongo_uri)\n"
   ]
  },
  {
   "cell_type": "code",
   "execution_count": 3,
   "id": "7f9ececa",
   "metadata": {},
   "outputs": [
    {
     "name": "stdout",
     "output_type": "stream",
     "text": [
      "The 'uk_food' database created.\n"
     ]
    }
   ],
   "source": [
    "# confirm that our new database was created\n",
    "# List available databases\n",
    "database_names = client.list_database_names()\n",
    "\n",
    "# Check if the desired database is in the list\n",
    "if \"uk_food\" in database_names:\n",
    "    print(\"The 'uk_food' database created.\")\n",
    "else:\n",
    "    print(\"The 'uk_food' database not found.\")\n"
   ]
  },
  {
   "cell_type": "code",
   "execution_count": 4,
   "id": "71e373c1",
   "metadata": {},
   "outputs": [],
   "source": [
    "# assign the uk_food database to a variable name\n",
    "db = client['uk_food']\n",
    "collection = db['establishments']"
   ]
  },
  {
   "cell_type": "code",
   "execution_count": 5,
   "id": "ef1b89ed",
   "metadata": {},
   "outputs": [
    {
     "name": "stdout",
     "output_type": "stream",
     "text": [
      "establishments\n"
     ]
    }
   ],
   "source": [
    "# review the collections in our new database\n",
    "collection_names = db.list_collection_names()\n",
    "\n",
    "# Print the collection names\n",
    "for collection_name in collection_names:\n",
    "    print(collection_name)\n"
   ]
  },
  {
   "cell_type": "code",
   "execution_count": 6,
   "id": "18ab463c",
   "metadata": {},
   "outputs": [
    {
     "name": "stdout",
     "output_type": "stream",
     "text": [
      "{'_id': ObjectId('64f06d5cbbe6397f1aafa728'), 'name': 'Penang Flavours', 'type': 'Halal', 'borough': 'Greenwich', 'address': {'building': '123', 'street': 'Greenwich Street', 'postcode': 'SE10 9XX'}, 'grades': [], 'cuisine': 'Malaysian'}\n"
     ]
    }
   ],
   "source": [
    "# review a document in the establishments collection\n",
    "document = collection.find_one()\n",
    "\n",
    "# Print the retrieved document\n",
    "print(document)\n"
   ]
  },
  {
   "cell_type": "code",
   "execution_count": 7,
   "id": "6a0d92df",
   "metadata": {},
   "outputs": [],
   "source": [
    "# assign the collection to a variable\n",
    "# Assign the establishments collection to a variable\n",
    "collection = db['establishments']\n"
   ]
  },
  {
   "cell_type": "code",
   "execution_count": null,
   "id": "11c9f11b",
   "metadata": {},
   "outputs": [],
   "source": [
    "\n"
   ]
  },
  {
   "cell_type": "markdown",
   "id": "d5671434",
   "metadata": {},
   "source": [
    "## Part 2: Update the Database"
   ]
  },
  {
   "cell_type": "markdown",
   "id": "314bd884",
   "metadata": {},
   "source": [
    "1. An exciting new halal restaurant just opened in Greenwich, but hasn't been rated yet. The magazine has asked you to include it in your analysis. Add the following restaurant \"Penang Flavours\" to the database."
   ]
  },
  {
   "cell_type": "code",
   "execution_count": 8,
   "id": "c2da7648",
   "metadata": {},
   "outputs": [],
   "source": [
    "# Create a dictionary for the new restaurant data\n",
    "new_restaurant = {\n",
    "    \"name\": \"Penang Flavours\",\n",
    "    \"type\": \"Halal\",\n",
    "    \"borough\": \"Greenwich\",\n",
    "    \"address\": {\n",
    "        \"building\": \"123\",\n",
    "        \"street\": \"Greenwich Street\",\n",
    "        \"postcode\": \"SE10 9XX\"\n",
    "    },\n",
    "    \"grades\": [],\n",
    "    \"cuisine\": \"Malaysian\"\n",
    "}\n"
   ]
  },
  {
   "cell_type": "code",
   "execution_count": 9,
   "id": "a6e5cece",
   "metadata": {},
   "outputs": [
    {
     "name": "stdout",
     "output_type": "stream",
     "text": [
      "Inserted document ID: 64f5911b3b59c6aa943c7714\n"
     ]
    }
   ],
   "source": [
    "# Insert the new restaurant into the collection\n",
    "result = collection.insert_one(new_restaurant)\n",
    "\n",
    "# Print the inserted document's ID\n",
    "print(\"Inserted document ID:\", result.inserted_id)\n"
   ]
  },
  {
   "cell_type": "code",
   "execution_count": 10,
   "id": "63bb10f9",
   "metadata": {},
   "outputs": [
    {
     "name": "stdout",
     "output_type": "stream",
     "text": [
      "New restaurant found:\n",
      "{'_id': ObjectId('64f06d5cbbe6397f1aafa728'), 'name': 'Penang Flavours', 'type': 'Halal', 'borough': 'Greenwich', 'address': {'building': '123', 'street': 'Greenwich Street', 'postcode': 'SE10 9XX'}, 'grades': [], 'cuisine': 'Malaysian'}\n"
     ]
    }
   ],
   "source": [
    "# Check that the new restaurant was inserted\n",
    "query = {\"name\": \"Penang Flavours\"}\n",
    "found_restaurant = collection.find_one(query)\n",
    "\n",
    "if found_restaurant:\n",
    "    print(\"New restaurant found:\")\n",
    "    print(found_restaurant)\n",
    "else:\n",
    "    print(\"New restaurant not found.\")\n"
   ]
  },
  {
   "cell_type": "markdown",
   "id": "0ef4395a",
   "metadata": {},
   "source": [
    "2. Find the BusinessTypeID for \"Restaurant/Cafe/Canteen\" and return only the `BusinessTypeID` and `BusinessType` fields."
   ]
  },
  {
   "cell_type": "code",
   "execution_count": 11,
   "id": "93c63829",
   "metadata": {},
   "outputs": [],
   "source": [
    "# Find the BusinessTypeID for \"Restaurant/Cafe/Canteen\" and return only the BusinessTypeID and BusinessType fields\n",
    "query = {\"BusinessType\": \"Restaurant/Cafe/Canteen\"}\n",
    "\n",
    "projection = {\"_id\": 0, \"BusinessTypeID\": 1, \"BusinessType\": 1}\n",
    "\n",
    "result = collection.find(query, projection)\n",
    "\n",
    "# Print the results\n",
    "for document in result:\n",
    "    print(document)\n"
   ]
  },
  {
   "cell_type": "markdown",
   "id": "4e570caf",
   "metadata": {},
   "source": [
    "3. Update the new restaurant with the `BusinessTypeID` you found."
   ]
  },
  {
   "cell_type": "code",
   "execution_count": 13,
   "id": "7f599f3d",
   "metadata": {},
   "outputs": [
    {
     "name": "stdout",
     "output_type": "stream",
     "text": [
      "Restaurant updated.\n"
     ]
    }
   ],
   "source": [
    "query = {\"name\": \"Penang Flavours\"}\n",
    "update = {\"$set\": {\"BusinessTypeID\": \"64f06d5cbbe6397f1aafa728\"}}\n",
    "\n",
    "# Perform the update\n",
    "result = collection.update_one(query, update)\n",
    "\n",
    "# Confirm that the new restaurant was updated\n",
    "if result.modified_count > 0:\n",
    "    print(\"Restaurant updated.\")\n",
    "else:\n",
    "    print(\"Restaurant not found or failed.\")\n"
   ]
  },
  {
   "cell_type": "code",
   "execution_count": null,
   "id": "a6ad16f7",
   "metadata": {},
   "outputs": [],
   "source": []
  },
  {
   "cell_type": "markdown",
   "id": "67281254",
   "metadata": {},
   "source": [
    "4. The magazine is not interested in any establishments in Dover, so check how many documents contain the Dover Local Authority. Then, remove any establishments within the Dover Local Authority from the database, and check the number of documents to ensure they were deleted."
   ]
  },
  {
   "cell_type": "code",
   "execution_count": 14,
   "id": "768474a6",
   "metadata": {},
   "outputs": [
    {
     "name": "stdout",
     "output_type": "stream",
     "text": [
      "Number of 'Dover': 0\n"
     ]
    }
   ],
   "source": [
    "# Find how many documents have LocalAuthorityName as \"Dover\"\n",
    "query = {\"LocalAuthorityName\": \"Dover\"}\n",
    "count_dover_documents = collection.count_documents(query)\n",
    "\n",
    "# Print the count\n",
    "print(\"Number of 'Dover':\", count_dover_documents)\n"
   ]
  },
  {
   "cell_type": "code",
   "execution_count": 15,
   "id": "a11d5f1b",
   "metadata": {},
   "outputs": [],
   "source": [
    "# Delete all documents where LocalAuthorityName is \"Dover\"\n",
    "query = {\"LocalAuthorityName\": \"Dover\"}\n",
    "\n",
    "# Delete documents with the specified query\n",
    "result = collection.delete_many(query)"
   ]
  },
  {
   "cell_type": "code",
   "execution_count": 16,
   "id": "2a51aba0",
   "metadata": {},
   "outputs": [
    {
     "name": "stdout",
     "output_type": "stream",
     "text": [
      "No more 'Dover' found.\n"
     ]
    },
    {
     "name": "stderr",
     "output_type": "stream",
     "text": [
      "C:\\Users\\Wolfred\\AppData\\Local\\Temp\\ipykernel_21512\\389050994.py:8: DeprecationWarning: count is deprecated. Use Collection.count_documents instead.\n",
      "  if remaining_dover_documents.count() > 0:\n"
     ]
    }
   ],
   "source": [
    "# Check if any remaining documents include Dover\n",
    "query = {\"LocalAuthorityName\": \"Dover\"}\n",
    "\n",
    "# Find documents with the specified query\n",
    "remaining_dover_documents = collection.find(query)\n",
    "\n",
    "# Check if any remaining documents were found\n",
    "if remaining_dover_documents.count() > 0:\n",
    "    print(\"There are still some 'Dover'.\")\n",
    "else:\n",
    "    print(\"No more 'Dover' found.\")\n"
   ]
  },
  {
   "cell_type": "code",
   "execution_count": 17,
   "id": "8c356f7b",
   "metadata": {},
   "outputs": [
    {
     "name": "stdout",
     "output_type": "stream",
     "text": [
      "There are still some remaining.\n",
      "{'_id': ObjectId('64f06d5cbbe6397f1aafa728'), 'name': 'Penang Flavours', 'type': 'Halal', 'borough': 'Greenwich', 'address': {'building': '123', 'street': 'Greenwich Street', 'postcode': 'SE10 9XX'}, 'grades': [], 'cuisine': 'Malaysian', 'BusinessTypeID': '64f06d5cbbe6397f1aafa728'}\n"
     ]
    }
   ],
   "source": [
    "# Check that other documents remain with 'find_one'\n",
    "remaining_document = collection.find_one()\n",
    "\n",
    "# Check if a document was found\n",
    "if remaining_document:\n",
    "    print(\"There are still some remaining.\")\n",
    "    print(remaining_document)\n",
    "else:\n",
    "    print(\"No more lft.\")\n"
   ]
  },
  {
   "cell_type": "markdown",
   "id": "e9f1662d",
   "metadata": {},
   "source": [
    "5. Some of the number values are stored as strings, when they should be stored as numbers. Use `update_many` to convert `latitude` and `longitude` to decimal numbers."
   ]
  },
  {
   "cell_type": "code",
   "execution_count": 18,
   "id": "fd4112ce",
   "metadata": {},
   "outputs": [
    {
     "ename": "InvalidOperation",
     "evalue": "[<class 'decimal.ConversionSyntax'>]",
     "output_type": "error",
     "traceback": [
      "\u001b[1;31m---------------------------------------------------------------------------\u001b[0m",
      "\u001b[1;31mInvalidOperation\u001b[0m                          Traceback (most recent call last)",
      "Cell \u001b[1;32mIn[18], line 8\u001b[0m\n\u001b[0;32m      5\u001b[0m query \u001b[38;5;241m=\u001b[39m {\u001b[38;5;124m\"\u001b[39m\u001b[38;5;124mlongitude\u001b[39m\u001b[38;5;124m\"\u001b[39m: {\u001b[38;5;124m\"\u001b[39m\u001b[38;5;124m$type\u001b[39m\u001b[38;5;124m\"\u001b[39m: \u001b[38;5;124m\"\u001b[39m\u001b[38;5;124mstring\u001b[39m\u001b[38;5;124m\"\u001b[39m}}\n\u001b[0;32m      7\u001b[0m \u001b[38;5;66;03m# Update operation to convert longitude to decimal\u001b[39;00m\n\u001b[1;32m----> 8\u001b[0m update \u001b[38;5;241m=\u001b[39m {\u001b[38;5;124m\"\u001b[39m\u001b[38;5;124m$set\u001b[39m\u001b[38;5;124m\"\u001b[39m: {\u001b[38;5;124m\"\u001b[39m\u001b[38;5;124mlongitude\u001b[39m\u001b[38;5;124m\"\u001b[39m: \u001b[43mDecimal\u001b[49m\u001b[43m(\u001b[49m\u001b[38;5;124;43m\"\u001b[39;49m\u001b[38;5;124;43m$longitude\u001b[39;49m\u001b[38;5;124;43m\"\u001b[39;49m\u001b[43m)\u001b[49m}}\n\u001b[0;32m     10\u001b[0m result \u001b[38;5;241m=\u001b[39m collection\u001b[38;5;241m.\u001b[39mupdate_many(query, update)\n",
      "\u001b[1;31mInvalidOperation\u001b[0m: [<class 'decimal.ConversionSyntax'>]"
     ]
    }
   ],
   "source": [
    "# Change the data type from String to Decimal for longitude\n",
    "from decimal import Decimal\n",
    "\n",
    "# Query to find documents with longitude stored as string\n",
    "query = {\"longitude\": {\"$type\": \"string\"}}\n",
    "\n",
    "# Update operation to convert longitude to decimal\n",
    "update = {\"$set\": {\"longitude\": Decimal(\"$longitude\")}}\n",
    "\n",
    "result = collection.update_many(query, update)\n"
   ]
  },
  {
   "cell_type": "code",
   "execution_count": 21,
   "id": "08dd7c72",
   "metadata": {},
   "outputs": [],
   "source": [
    "# Query to find documents with latitude stored as string\n",
    "query = {\"latitude\": {\"$type\": \"string\"}}\n",
    "\n",
    "# Update operation to convert latitude to decimal\n",
    "update = [\n",
    "    {\"$set\": {\"latitude\": {\"$toDouble\": \"$latitude\"}}},\n",
    "    {\"$set\": {\"latitude\": {\"$convert\": {\"input\": \"$latitude\", \"to\": \"decimal\"}}}}\n",
    "]\n",
    "\n",
    "result = collection.update_many(query, update)\n"
   ]
  },
  {
   "cell_type": "code",
   "execution_count": 22,
   "id": "0deacaf9",
   "metadata": {},
   "outputs": [
    {
     "name": "stdout",
     "output_type": "stream",
     "text": [
      "Longitude: None, Latitude: None\n",
      "Longitude: None, Latitude: None\n"
     ]
    }
   ],
   "source": [
    "# Check that the coordinates are now numbers\n",
    "sample_documents = collection.find().limit(5)\n",
    "\n",
    "# Print the coordinates of the sample documents\n",
    "for document in sample_documents:\n",
    "    longitude = document.get(\"longitude\")\n",
    "    latitude = document.get(\"latitude\")\n",
    "    print(f\"Longitude: {longitude}, Latitude: {latitude}\")\n"
   ]
  },
  {
   "cell_type": "code",
   "execution_count": null,
   "id": "11760863",
   "metadata": {},
   "outputs": [],
   "source": []
  }
 ],
 "metadata": {
  "kernelspec": {
   "display_name": "Python 3 (ipykernel)",
   "language": "python",
   "name": "python3"
  },
  "language_info": {
   "codemirror_mode": {
    "name": "ipython",
    "version": 3
   },
   "file_extension": ".py",
   "mimetype": "text/x-python",
   "name": "python",
   "nbconvert_exporter": "python",
   "pygments_lexer": "ipython3",
   "version": "3.11.3"
  }
 },
 "nbformat": 4,
 "nbformat_minor": 5
}
